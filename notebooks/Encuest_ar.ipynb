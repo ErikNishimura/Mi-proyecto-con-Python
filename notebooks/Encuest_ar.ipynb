{
 "cells": [
  {
   "cell_type": "code",
   "execution_count": 1,
   "id": "e152d14f",
   "metadata": {},
   "outputs": [],
   "source": [
    "import os,sys\n",
    "\n",
    "# Obtener el path del notebook\n",
    "notebook_dir = os.path.dirname(os.path.abspath(\"__file__\"))\n",
    "\n",
    "# Subir a la raíz del proyecto\n",
    "root_dir = os.path.dirname(notebook_dir)\n",
    "\n",
    "sys.path.append(root_dir)\n",
    "from src import main\n"
   ]
  },
  {
   "cell_type": "markdown",
   "id": "d8e3a2ce",
   "metadata": {},
   "source": [
    "# Seccion A"
   ]
  },
  {
   "cell_type": "markdown",
   "id": "3214a676",
   "metadata": {},
   "source": [
    "2. Se debe generar una sección de código dentro del notebook que busque en la\n",
    "mencionada carpeta cada uno de los archivos “individuos” y “hogares” y los una. Es\n",
    "decir, si en la carpeta tenemos tres archivos de individuos (año 2023 trimestre 1, año\n",
    "2023 trimestre 2, año 2024 trimestre 1) se debe leer la información de cada uno y\n",
    "generar un dataset que contenga toda la información.\n",
    "Recordar que dentro de las columnas de información se encuentra el año y trimestre,\n",
    "por lo que luego de unirse se puede conocer fácilmente el período al cual pertenece.\n",
    "Esta operación automática de búsqueda y generación de dataset se debe realizar\n",
    "tanto para el archivo de individuos como el de hogares.\n"
   ]
  },
  {
   "cell_type": "code",
   "execution_count": 4,
   "id": "67a01185",
   "metadata": {},
   "outputs": [],
   "source": [
    "\n",
    "main.cargar_dataset()\n"
   ]
  },
  {
   "cell_type": "markdown",
   "id": "d3329600",
   "metadata": {},
   "source": [
    "3. Se debe traducir los valores CH04 numéricos a \"Masculino\" y \"Femenino\" según\n",
    "corresponda. El resultado se debe almacenar en una nueva columna llamada\n",
    "CH04_str.\n"
   ]
  },
  {
   "cell_type": "code",
   "execution_count": 3,
   "id": "51ab87a3",
   "metadata": {},
   "outputs": [],
   "source": [
    "main.inciso3_SeccionA()"
   ]
  },
  {
   "cell_type": "markdown",
   "id": "4aa66817",
   "metadata": {},
   "source": [
    "4. Se debe traducir los valores NIVEL_ED numéricos a descripciones en formato texto.\n",
    "El resultado se debe almacenar en una nueva columna llamada NIVEL_ED_str. La\n",
    "transformación debe seguir las siguientes reglas:\n",
    "- 1: \"Primario incompleto\".\n",
    "- 2: \"Primario completo\".\n",
    "- 3 \"Secundario incompleto\".\n",
    "- 4: \"Secundario completo\".\n",
    "- 5 a 6: \"Superior o universitario\".\n",
    "- 7 o 9: “Sin informacion”.\n"
   ]
  },
  {
   "cell_type": "code",
   "execution_count": 3,
   "id": "70ccc5f9",
   "metadata": {},
   "outputs": [
    {
     "name": "stdout",
     "output_type": "stream",
     "text": [
      "Error: Uno de los archivos CSV no se encuentra.\n"
     ]
    }
   ],
   "source": [
    "\n",
    "main.inciso4_SeccionA()"
   ]
  },
  {
   "cell_type": "markdown",
   "id": "f3b586ad",
   "metadata": {},
   "source": [
    "5. Se debe crear una nueva columna denominada CONDICION_LABORAL de formato \n",
    "texto. La transformación debe seguir las siguientes reglas: \n",
    "- Ocupado autónomo: si ESTADO es igual a 1 y CAT_OCUP es 1 o 2. \n",
    "- Ocupado dependiente: si ESTADO es igual a 1 y CAT_OCUP es 3 o 4 o 9. \n",
    "- Desocupado: si ESTADO es igual a 2. \n",
    "- Inactivo: si ESTADO es igual a 3. \n",
    "- Fuera de categoría/sin información: si ESTADO es igual a 4"
   ]
  },
  {
   "cell_type": "code",
   "execution_count": 5,
   "id": "5eb66e6a",
   "metadata": {},
   "outputs": [],
   "source": [
    "\n",
    "main.inciso5_SeccionA()"
   ]
  },
  {
   "cell_type": "markdown",
   "id": "589f22e4",
   "metadata": {},
   "source": [
    "6. Se debe generar una nueva columna llamada UNIVERSITARIO numérica que indica si\n",
    "una persona mayor de edad ha completado el como mínimo el nivel universitario (1:\n",
    "Sí, 0: No, 2: no aplica)."
   ]
  },
  {
   "cell_type": "code",
   "execution_count": 6,
   "id": "e9ee9336",
   "metadata": {},
   "outputs": [],
   "source": [
    "\n",
    "main.inciso6_SeccionA()"
   ]
  },
  {
   "cell_type": "markdown",
   "id": "57c9e722",
   "metadata": {},
   "source": [
    "7. Se debe generar una nueva columna llamada TIPO_HOGAR que indica el tipo de\n",
    "hogar:\n",
    "- \"Unipersonal\" (una persona).\n",
    "- \"Nuclear\" (2 a 4 personas).\n",
    "- \"Extendido\" (5 o más personas)."
   ]
  },
  {
   "cell_type": "code",
   "execution_count": 7,
   "id": "252e56c2",
   "metadata": {},
   "outputs": [],
   "source": [
    "\n",
    "main.inciso7_SeccionA()"
   ]
  },
  {
   "cell_type": "markdown",
   "id": "f036e1a6",
   "metadata": {},
   "source": [
    "8. Se debe generar una nueva columna llamada MATERIAL_TECHUMBRE que indica el\n",
    "tipo de hogar basado en el campo V4:\n",
    "- 5 a 7: \"Material precario\".\n",
    "- 1 a 4: \"Material durable\".\n",
    "- 9: “No aplica”."
   ]
  },
  {
   "cell_type": "code",
   "execution_count": 8,
   "id": "6e17b0ea",
   "metadata": {},
   "outputs": [],
   "source": [
    "\n",
    "main.inciso8_SeccionA()"
   ]
  },
  {
   "cell_type": "markdown",
   "id": "013ca2b6",
   "metadata": {},
   "source": [
    "9. Se debe generar una nueva columna denominada DENSIDAD_HOGAR. La generación\n",
    "debe seguir las siguientes reglas:\n",
    "    - Bajo: menos de 1 persona por habitación.\n",
    "    - Medio: entre 1 y 2 personas por habitación.\n",
    "    - Alto: más de 2 personas por habitación."
   ]
  },
  {
   "cell_type": "code",
   "execution_count": 9,
   "id": "d4dda7a7",
   "metadata": {},
   "outputs": [],
   "source": [
    "\n",
    "main.inciso9_SeccionA()"
   ]
  },
  {
   "cell_type": "markdown",
   "id": "924dd7b0",
   "metadata": {},
   "source": [
    "10. Se debe generar una nueva columna llamada CONDICION_DE_HABITABILIDAD, la\n",
    "misma califica a las viviendas y puede tener el valor de: insuficiente, regular,\n",
    "saludables y buena.\n",
    "Las reglas que definen la clasificación de las viviendas deben ser definidas por cada\n",
    "grupo analizando los datos con los que se cuentan. El único requisito es considerar\n",
    "al menos 5 de las siguientes columnas:\n",
    "- IV6: tiene agua.\n",
    "- IV7: origen del agua.\n",
    "- IV8: posee baño.\n",
    "- IV9: ubicación del baño.\n",
    "- IV10: tipo de baño.\n",
    "- IV11: desagüe del baño.\n",
    "- MATERIAL_TECHUMBRE: creado anteriormente\n",
    "- IV3: material de pisos interiores.\n"
   ]
  },
  {
   "cell_type": "code",
   "execution_count": 10,
   "id": "183557ad",
   "metadata": {},
   "outputs": [],
   "source": [
    "\n",
    "main.inciso10_seccionA()"
   ]
  },
  {
   "cell_type": "markdown",
   "id": "27d37311",
   "metadata": {},
   "source": [
    "# Seccion B"
   ]
  },
  {
   "cell_type": "markdown",
   "id": "cde4edc1",
   "metadata": {},
   "source": [
    "1. A partir de la información de cada año contenida en el dataset se debe informar, año\n",
    "tras año, el porcentaje de personas mayores a 6 años capaces e incapaces de leer y\n",
    "escribir."
   ]
  },
  {
   "cell_type": "code",
   "execution_count": 11,
   "id": "05326e0b",
   "metadata": {},
   "outputs": [
    {
     "name": "stdout",
     "output_type": "stream",
     "text": [
      "Año 2023: Saben leer = 99.08%, No saben leer = 0.92%\n",
      "Año 2024: Saben leer = 99.14%, No saben leer = 0.86%\n"
     ]
    }
   ],
   "source": [
    "\n",
    "main.inciso1_seccionB()"
   ]
  },
  {
   "cell_type": "markdown",
   "id": "edda6e51",
   "metadata": {},
   "source": [
    "2. A partir de un año y trimestre elegido por el usuario informar el porcentaje de\n",
    "personas no nacidas en Argentina que hayan cursado un nivel universitario o\n",
    "superior"
   ]
  },
  {
   "cell_type": "code",
   "execution_count": 12,
   "id": "4370e68d",
   "metadata": {},
   "outputs": [
    {
     "name": "stdout",
     "output_type": "stream",
     "text": [
      "Porcentaje de personas no nacidas en Argentina que hayan cursado un nivel universitario o superior del trimestre 2 en el año 2024 es: 20.96 \n"
     ]
    }
   ],
   "source": [
    "\n",
    "main.inciso2_seccionB()"
   ]
  },
  {
   "cell_type": "markdown",
   "id": "41a1e830",
   "metadata": {},
   "source": [
    "3. A partir de la información contenida en el dataset informar el año y trimestre donde\n",
    "hubo menor desocupación."
   ]
  },
  {
   "cell_type": "code",
   "execution_count": 13,
   "id": "b28a2857",
   "metadata": {},
   "outputs": [
    {
     "name": "stdout",
     "output_type": "stream",
     "text": [
      "Se evaluo solo el año 2024, el trimestre con menor tasa de desocupacion fue el trimestre 3\n"
     ]
    }
   ],
   "source": [
    "\n",
    "main.inciso3_seccionB()"
   ]
  },
  {
   "cell_type": "markdown",
   "id": "cb090168",
   "metadata": {},
   "source": [
    "4. Ranking de los 5 aglomerados con mayor porcentaje de hogares con dos o más\n",
    "ocupantes con estudios universitarios o superiores finalizados. Información obtenida\n",
    "a partir del par de archivos más recientes.\n"
   ]
  },
  {
   "cell_type": "code",
   "execution_count": 14,
   "id": "40e5d9a9",
   "metadata": {},
   "outputs": [
    {
     "name": "stdout",
     "output_type": "stream",
     "text": [
      "\n",
      "Top 5 aglomerados con mayor porcentaje de hogares con 2 o más universitarios (Año 2024, Trimestre 3):\n",
      "Aglomerado 32: 33.78%\n",
      "Aglomerado 23: 27.24%\n",
      "Aglomerado 12: 26.63%\n",
      "Aglomerado 29: 24.96%\n",
      "Aglomerado 19: 24.39%\n"
     ]
    }
   ],
   "source": [
    "\n",
    "main.inciso4_seccionB()"
   ]
  },
  {
   "cell_type": "markdown",
   "id": "e9817719",
   "metadata": {},
   "source": [
    "5. Informar para cada aglomerado el porcentaje de viviendas ocupadas por sus\n",
    "propietarios.\n"
   ]
  },
  {
   "cell_type": "code",
   "execution_count": 15,
   "id": "28e1ef7b",
   "metadata": {},
   "outputs": [
    {
     "name": "stdout",
     "output_type": "stream",
     "text": [
      "Aglomerado 2: 69.05% de propietarios\n",
      "Aglomerado 3: 62.49% de propietarios\n",
      "Aglomerado 4: 70.59% de propietarios\n",
      "Aglomerado 5: 73.31% de propietarios\n",
      "Aglomerado 6: 71.30% de propietarios\n",
      "Aglomerado 7: 70.68% de propietarios\n",
      "Aglomerado 8: 82.47% de propietarios\n",
      "Aglomerado 9: 64.66% de propietarios\n",
      "Aglomerado 10: 60.96% de propietarios\n",
      "Aglomerado 12: 72.51% de propietarios\n",
      "Aglomerado 13: 52.08% de propietarios\n",
      "Aglomerado 14: 76.00% de propietarios\n",
      "Aglomerado 15: 79.86% de propietarios\n",
      "Aglomerado 17: 66.77% de propietarios\n",
      "Aglomerado 18: 86.79% de propietarios\n",
      "Aglomerado 19: 77.25% de propietarios\n",
      "Aglomerado 20: 55.58% de propietarios\n",
      "Aglomerado 22: 81.17% de propietarios\n",
      "Aglomerado 23: 69.20% de propietarios\n",
      "Aglomerado 25: 72.75% de propietarios\n",
      "Aglomerado 26: 66.27% de propietarios\n",
      "Aglomerado 27: 66.60% de propietarios\n",
      "Aglomerado 29: 68.07% de propietarios\n",
      "Aglomerado 30: 61.82% de propietarios\n",
      "Aglomerado 31: 55.39% de propietarios\n",
      "Aglomerado 32: 56.98% de propietarios\n",
      "Aglomerado 33: 72.60% de propietarios\n",
      "Aglomerado 34: 69.62% de propietarios\n",
      "Aglomerado 36: 58.32% de propietarios\n",
      "Aglomerado 38: 71.44% de propietarios\n",
      "Aglomerado 91: 64.01% de propietarios\n",
      "Aglomerado 93: 65.97% de propietarios\n"
     ]
    }
   ],
   "source": [
    "\n",
    "main.inciso5_seccionB()"
   ]
  },
  {
   "cell_type": "markdown",
   "id": "1e7c8209",
   "metadata": {},
   "source": [
    "6. Informar el aglomerado con mayor cantidad de viviendas con más de dos ocupantes\n",
    "y sin baño. Informar también la cantidad de ellas.\n"
   ]
  },
  {
   "cell_type": "code",
   "execution_count": 16,
   "id": "96d816d5",
   "metadata": {},
   "outputs": [
    {
     "name": "stdout",
     "output_type": "stream",
     "text": [
      "Aglomerado con mayor cantidad de viviendas con más de 2 ocupantes y sin baño: 33\n",
      "Cantidad de viviendas: 11\n"
     ]
    }
   ],
   "source": [
    "\n",
    "main.inciso6_seccionB()"
   ]
  },
  {
   "cell_type": "markdown",
   "id": "51afe00a",
   "metadata": {},
   "source": [
    "7. Informar para cada aglomerado el porcentaje de personas que hayan cursado al menos en nivel universitario o superior. "
   ]
  },
  {
   "cell_type": "code",
   "execution_count": 17,
   "id": "d10419b5",
   "metadata": {},
   "outputs": [
    {
     "name": "stdout",
     "output_type": "stream",
     "text": [
      "Promedio de personas que cursaron nivel universitario o superior\n",
      "------------------------------\n",
      " - Gran La Plata: 24.76%\n",
      " - Bahía Blanca-Cerri: 18.99%\n",
      " - Gran Rosario: 17.60%\n",
      " - Gran Santa Fe: 13.11%\n",
      " - Gran Paraná: 21.10%\n",
      " - Posadas: 17.00%\n",
      " - Gran Resistencia: 10.73%\n",
      " - Comodoro Rivadavia-Rada Tilly: 14.53%\n",
      " - Gran Mendoza: 18.58%\n",
      " - Corrientes: 16.45%\n",
      " - Gran Córdoba: 20.49%\n",
      " - Concordia: 5.66%\n",
      " - Formosa: 11.99%\n",
      " - Neuquén-Plottier: 14.57%\n",
      " - Santiago del Estero-La Banda: 9.95%\n",
      " - Jujuy-Palpalá: 11.88%\n",
      " - Río Gallegos: 15.62%\n",
      " - Gran Catamarca: 11.26%\n",
      " - Gran Salta: 15.09%\n",
      " - La Rioja: 17.68%\n",
      " - Gran San Luis: 18.95%\n",
      " - Gran San Juan: 13.51%\n",
      " - Gran Tucumán-Tafí Viejo: 16.52%\n",
      " - Santa Rosa-Toay: 16.41%\n",
      " - Ushuaia-Río Grande: 12.38%\n",
      " - Ciudad Autónoma de Buenos Aires: 38.62%\n",
      " - Partidos del Gran Buenos Aires: 14.34%\n",
      " - Mar del Plata: 17.25%\n",
      " - Río Cuarto: 21.06%\n",
      " - San Nicolás-Villa Constitución: 9.57%\n",
      " - Rawson-Trelew: 10.50%\n",
      " - Viedma-Carmen de Patagones: 13.27%\n"
     ]
    }
   ],
   "source": [
    "\n",
    "main.inciso7_SeccionB()"
   ]
  },
  {
   "cell_type": "markdown",
   "id": "44e9175b",
   "metadata": {},
   "source": [
    "8. Ordenar las regiones de forma descendente según el porcentaje de inquilinos de cada una. "
   ]
  },
  {
   "cell_type": "code",
   "execution_count": 18,
   "id": "bd2830f7",
   "metadata": {},
   "outputs": [
    {
     "name": "stdout",
     "output_type": "stream",
     "text": [
      "Orden de las regiones segun el porcentaje de inquilinos\n",
      "------------------------------\n",
      "Región Patagonia: 24.00% inquilinos\n",
      "Región Cuyo: 19.77% inquilinos\n",
      "Región Pampeana: 19.21% inquilinos\n",
      "Región Gran Buenos Aires: 17.39% inquilinos\n",
      "Región Noreste: 11.40% inquilinos\n",
      "Región Noroeste: 9.98% inquilinos\n"
     ]
    }
   ],
   "source": [
    "\n",
    "main.inciso8_SeccionB()"
   ]
  },
  {
   "cell_type": "markdown",
   "id": "8eb98aad",
   "metadata": {},
   "source": [
    "9. Pedir al usuario que seleccione un aglomerado y a partir de la información contenida\n",
    "retornar una tabla que contenga la cantidad de personas mayores de edad según su\n",
    "nivel de estudios alcanzados."
   ]
  },
  {
   "cell_type": "code",
   "execution_count": 19,
   "id": "019ae20e",
   "metadata": {},
   "outputs": [
    {
     "name": "stdout",
     "output_type": "stream",
     "text": [
      "2 = Gran La Plata\n",
      "3 = Bahía Blanca-Cerri\n",
      "4 = Gran Rosario\n",
      "5 = Gran Santa Fe\n",
      "6 = Gran Paraná\n",
      "7 = Posadas\n",
      "8 = Gran Resistencia\n",
      "9 = Comodoro Rivadavia-Rada Tilly\n",
      "10 = Gran Mendoza\n",
      "12 = Corrientes\n",
      "13 = Gran Córdoba\n",
      "14 = Concordia\n",
      "15 = Formosa\n",
      "17 = Neuquén-Plottier\n",
      "18 = Santiago del Estero-La Banda\n",
      "19 = Jujuy-Palpalá\n",
      "20 = Río Gallegos\n",
      "22 = Gran Catamarca\n",
      "23 = Gran Salta\n",
      "25 = La Rioja\n",
      "26 = Gran San Luis\n",
      "27 = Gran San Juan\n",
      "29 = Gran Tucumán-Tafí Viejo\n",
      "30 = Santa Rosa-Toay\n",
      "31 = Ushuaia-Río Grande\n",
      "32 = Ciudad Autónoma de Buenos Aires\n",
      "33 = Partidos del Gran Buenos Aires\n",
      "34 = Mar del Plata\n",
      "36 = Río Cuarto\n",
      "38 = San Nicolás-Villa Constitución\n",
      "91 = Rawson-Trelew\n",
      "93 = Viedma-Carmen de Patagones\n",
      "| Año    | Trimestre | Primario incompleto | Primario completo | Secundario Incompleto | Secundario Completo | Superior o universitario |\n",
      "-----------------------------------------------------------------------------------------------------------------------------------------\n",
      "| 2024   | 2         | 30598               | 90199             | 89779                 | 151156              | 316587                   |\n",
      "-----------------------------------------------------------------------------------------------------------------------------------------\n",
      "| 2024   | 3         | 32173               | 91074             | 79500                 | 187241              | 296549                   |\n",
      "-----------------------------------------------------------------------------------------------------------------------------------------\n",
      "| 2023   | 4         | 29398               | 79266             | 109675                | 142572              | 311628                   |\n",
      "-----------------------------------------------------------------------------------------------------------------------------------------\n"
     ]
    }
   ],
   "source": [
    "\n",
    "main.inciso9_SeccionB()"
   ]
  },
  {
   "cell_type": "markdown",
   "id": "7f875494",
   "metadata": {},
   "source": [
    "10. Pedir al usuario que seleccione dos aglomerados y a partir de la información\n",
    "contenida retornar una tabla que contenga el porcentaje de personas mayores de\n",
    "edad con secundario incompleto."
   ]
  },
  {
   "cell_type": "code",
   "execution_count": 20,
   "id": "8226b109",
   "metadata": {},
   "outputs": [
    {
     "name": "stdout",
     "output_type": "stream",
     "text": [
      "2 = Gran La Plata\n",
      "3 = Bahía Blanca-Cerri\n",
      "4 = Gran Rosario\n",
      "5 = Gran Santa Fe\n",
      "6 = Gran Paraná\n",
      "7 = Posadas\n",
      "8 = Gran Resistencia\n",
      "9 = Comodoro Rivadavia-Rada Tilly\n",
      "10 = Gran Mendoza\n",
      "12 = Corrientes\n",
      "13 = Gran Córdoba\n",
      "14 = Concordia\n",
      "15 = Formosa\n",
      "17 = Neuquén-Plottier\n",
      "18 = Santiago del Estero-La Banda\n",
      "19 = Jujuy-Palpalá\n",
      "20 = Río Gallegos\n",
      "22 = Gran Catamarca\n",
      "23 = Gran Salta\n",
      "25 = La Rioja\n",
      "26 = Gran San Luis\n",
      "27 = Gran San Juan\n",
      "29 = Gran Tucumán-Tafí Viejo\n",
      "30 = Santa Rosa-Toay\n",
      "31 = Ushuaia-Río Grande\n",
      "32 = Ciudad Autónoma de Buenos Aires\n",
      "33 = Partidos del Gran Buenos Aires\n",
      "34 = Mar del Plata\n",
      "36 = Río Cuarto\n",
      "38 = San Nicolás-Villa Constitución\n",
      "91 = Rawson-Trelew\n",
      "93 = Viedma-Carmen de Patagones\n",
      "Ingrese el codigo de dos aglomerados para retornar una tabla que contenga la cantidad de personas mayores de edad con secundario incompleto:\n",
      "\n",
      "| Año    | Trimestre  | Aglomerado 2         | Aglomerado 3         |\n",
      "|-------------------------------------------------------------------|\n",
      "| 2023   | 4          | 15.0%                | 17.7%                |\n",
      "|-------------------------------------------------------------------|\n",
      "| 2024   | 2          | 11.9%                | 12.6%                |\n",
      "|-------------------------------------------------------------------|\n",
      "| 2024   | 3          | 10.5%                | 12.5%                |\n",
      "|-------------------------------------------------------------------|\n"
     ]
    }
   ],
   "source": [
    "\n",
    "main.inciso10_SeccionB()"
   ]
  },
  {
   "cell_type": "markdown",
   "id": "d72e9177",
   "metadata": {},
   "source": [
    "11. Pedir al usuario que seleccione un año, y busque en el último trimestre almacenado\n",
    "del mencionado año, el aglomerado con mayor porcentaje de viviendas de “Material\n",
    "precario” y el aglomerado con menor porcentaje de viviendas de “Material precario”"
   ]
  },
  {
   "cell_type": "code",
   "execution_count": 21,
   "id": "7e4e7eb9",
   "metadata": {},
   "outputs": [
    {
     "name": "stdout",
     "output_type": "stream",
     "text": [
      "Último trimestre: 3, Año: 2024\n",
      "Aglomerado con mayor porcentaje: 27(14.28% )\n",
      "Aglomerado con menor porcentaje: 19(0.00%)\n"
     ]
    }
   ],
   "source": [
    "main.inciso11_seccionB()"
   ]
  },
  {
   "cell_type": "markdown",
   "id": "329a81ae",
   "metadata": {},
   "source": [
    "12. A partir de la información del último trimestre almacenado en el sistema se debe\n",
    "retornar para cada aglomerado el porcentaje de jubilados que vivan en una vivienda\n",
    "con CONDICION_DE_HABITABILIDAD insuficiente."
   ]
  },
  {
   "cell_type": "code",
   "execution_count": 22,
   "id": "6c695227",
   "metadata": {},
   "outputs": [
    {
     "name": "stdout",
     "output_type": "stream",
     "text": [
      "aglomerado 2: 0.00% de jubilados en condiciones de habitabilidad insuficientes\n",
      "aglomerado 3: 0.00% de jubilados en condiciones de habitabilidad insuficientes\n",
      "aglomerado 4: 0.00% de jubilados en condiciones de habitabilidad insuficientes\n",
      "aglomerado 5: 0.00% de jubilados en condiciones de habitabilidad insuficientes\n",
      "aglomerado 6: 0.00% de jubilados en condiciones de habitabilidad insuficientes\n",
      "aglomerado 7: 0.00% de jubilados en condiciones de habitabilidad insuficientes\n",
      "aglomerado 8: 0.00% de jubilados en condiciones de habitabilidad insuficientes\n",
      "aglomerado 9: 0.00% de jubilados en condiciones de habitabilidad insuficientes\n",
      "aglomerado 10: 0.00% de jubilados en condiciones de habitabilidad insuficientes\n",
      "aglomerado 12: 1.09% de jubilados en condiciones de habitabilidad insuficientes\n",
      "aglomerado 13: 1.80% de jubilados en condiciones de habitabilidad insuficientes\n",
      "aglomerado 14: 0.00% de jubilados en condiciones de habitabilidad insuficientes\n",
      "aglomerado 15: 0.00% de jubilados en condiciones de habitabilidad insuficientes\n",
      "aglomerado 17: 0.00% de jubilados en condiciones de habitabilidad insuficientes\n",
      "aglomerado 18: 0.00% de jubilados en condiciones de habitabilidad insuficientes\n",
      "aglomerado 19: 0.00% de jubilados en condiciones de habitabilidad insuficientes\n",
      "aglomerado 20: 0.00% de jubilados en condiciones de habitabilidad insuficientes\n",
      "aglomerado 22: 0.00% de jubilados en condiciones de habitabilidad insuficientes\n",
      "aglomerado 23: 0.00% de jubilados en condiciones de habitabilidad insuficientes\n",
      "aglomerado 25: 0.00% de jubilados en condiciones de habitabilidad insuficientes\n",
      "aglomerado 26: 0.00% de jubilados en condiciones de habitabilidad insuficientes\n",
      "aglomerado 27: 0.00% de jubilados en condiciones de habitabilidad insuficientes\n",
      "aglomerado 29: 0.00% de jubilados en condiciones de habitabilidad insuficientes\n",
      "aglomerado 30: 0.00% de jubilados en condiciones de habitabilidad insuficientes\n",
      "aglomerado 31: 0.00% de jubilados en condiciones de habitabilidad insuficientes\n",
      "aglomerado 32: 0.00% de jubilados en condiciones de habitabilidad insuficientes\n",
      "aglomerado 33: 0.31% de jubilados en condiciones de habitabilidad insuficientes\n",
      "aglomerado 34: 0.00% de jubilados en condiciones de habitabilidad insuficientes\n",
      "aglomerado 36: 0.00% de jubilados en condiciones de habitabilidad insuficientes\n",
      "aglomerado 38: 0.00% de jubilados en condiciones de habitabilidad insuficientes\n",
      "aglomerado 91: 0.00% de jubilados en condiciones de habitabilidad insuficientes\n",
      "aglomerado 93: 0.00% de jubilados en condiciones de habitabilidad insuficientes\n"
     ]
    }
   ],
   "source": [
    "main.inciso12_seccionB()"
   ]
  },
  {
   "cell_type": "markdown",
   "id": "283e0b30",
   "metadata": {},
   "source": [
    "13. Solicitar un año al usuario y a partir de la información del último trimestre de dicho\n",
    "ejercicio informar la cantidad de personas que hayan cursado nivel universitario o\n",
    "superior y que vivan en una vivienda con CONDICION_DE_HABITABILIDAD\n",
    "insuficiente"
   ]
  },
  {
   "cell_type": "code",
   "execution_count": 24,
   "id": "53921acb",
   "metadata": {},
   "outputs": [
    {
     "name": "stdout",
     "output_type": "stream",
     "text": [
      "La cantidad de personas que han cursado nivel universitario o superior y que vivan en una vivienda con CONDICION_DE_HABITABILIDAD insuficiente es: 12867\n"
     ]
    }
   ],
   "source": [
    "main.inciso13_seccionB()"
   ]
  }
 ],
 "metadata": {
  "kernelspec": {
   "display_name": "Python 3",
   "language": "python",
   "name": "python3"
  },
  "language_info": {
   "codemirror_mode": {
    "name": "ipython",
    "version": 3
   },
   "file_extension": ".py",
   "mimetype": "text/x-python",
   "name": "python",
   "nbconvert_exporter": "python",
   "pygments_lexer": "ipython3",
   "version": "3.12.9"
  }
 },
 "nbformat": 4,
 "nbformat_minor": 5
}
